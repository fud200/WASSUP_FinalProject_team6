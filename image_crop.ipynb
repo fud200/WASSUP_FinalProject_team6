{
  "nbformat": 4,
  "nbformat_minor": 0,
  "metadata": {
    "colab": {
      "provenance": [],
      "authorship_tag": "ABX9TyOsTa+2MX5QNXTNxHVmUohC"
    },
    "kernelspec": {
      "name": "python3",
      "display_name": "Python 3"
    },
    "language_info": {
      "name": "python"
    }
  },
  "cells": [
    {
      "cell_type": "code",
      "source": [
        "# 진행률을 시각화 하는데 필요한 라이브러리 설치\n",
        "!pip install tqdm"
      ],
      "metadata": {
        "colab": {
          "base_uri": "https://localhost:8080/"
        },
        "id": "J6rDX-gnRW1q",
        "outputId": "3e8c1582-c25e-4369-cecf-19de7cfed09e"
      },
      "execution_count": 1,
      "outputs": [
        {
          "output_type": "stream",
          "name": "stdout",
          "text": [
            "Requirement already satisfied: tqdm in /usr/local/lib/python3.10/dist-packages (4.66.4)\n"
          ]
        }
      ]
    },
    {
      "cell_type": "code",
      "execution_count": 2,
      "metadata": {
        "colab": {
          "base_uri": "https://localhost:8080/"
        },
        "id": "j3VlN3KHE1zX",
        "outputId": "bdd2ff1c-434a-4b49-a91b-ef41606dba17"
      },
      "outputs": [
        {
          "output_type": "stream",
          "name": "stdout",
          "text": [
            "Drive already mounted at /content/drive; to attempt to forcibly remount, call drive.mount(\"/content/drive\", force_remount=True).\n"
          ]
        }
      ],
      "source": [
        "from google.colab import drive\n",
        "drive.mount('/content/drive')"
      ]
    },
    {
      "cell_type": "code",
      "source": [
        "from PIL import Image\n",
        "import cv2\n",
        "from google.colab.patches import cv2_imshow\n",
        "import json\n",
        "import glob\n",
        "import os\n",
        "import matplotlib.pyplot as plt\n",
        "import pandas as pd\n",
        "import time\n",
        "from tqdm import tqdm"
      ],
      "metadata": {
        "id": "cBW6yU6gFnvH"
      },
      "execution_count": 3,
      "outputs": []
    },
    {
      "cell_type": "code",
      "source": [
        "# 이미지 크롭 작업 할 감정 설정\n",
        "emotion = \"anger\"\n",
        "# json 파일이 저장되어 있는 폴더 경로 설정\n",
        "path_json = \"/content/drive/MyDrive/Colab_Notebooks/WASSUP/project_3/data/label/train/\"\n",
        "# 이미지 파일이 저장되어 있는 폴더 경로 설정\n",
        "path_imgs = \"/content/drive/MyDrive/Colab_Notebooks/WASSUP/project_3/data/img/train/\"\n",
        "# crop한 이미지 저장할 경로 설정\n",
        "path_crop = \"/content/drive/MyDrive/Colab_Notebooks/WASSUP/project_3/data/img/train/processed/\""
      ],
      "metadata": {
        "id": "tADTPG9nF6oz"
      },
      "execution_count": 4,
      "outputs": []
    },
    {
      "cell_type": "code",
      "source": [
        "# 설정한 감정에 해당하는 json파일을 읽어옵니다.\n",
        "with open (path_json + \"train_\"+emotion+\".json\", \"r\", encoding='euc-kr') as f:\n",
        "    data = json.load(f)"
      ],
      "metadata": {
        "id": "MAwLAcqSGsTP"
      },
      "execution_count": 5,
      "outputs": []
    },
    {
      "cell_type": "code",
      "source": [
        "# 이미지 크롭 후 저장\n",
        "for i in tqdm(range(len(data)), desc='이미지 crop 진행률'):\n",
        "    img_name=data[i]['filename']\n",
        "    img_path=path_imgs+emotion+\"/\"+img_name\n",
        "    crop_img_path=path_crop+emotion+\"/\"+img_name\n",
        "    try:\n",
        "        img=cv2.imread(img_path)\n",
        "        min_X=int(data[i]['annot_A'][\"boxes\"][\"minX\"])\n",
        "        max_X=int(data[i]['annot_A'][\"boxes\"][\"maxX\"])\n",
        "        min_Y=int(data[i]['annot_A'][\"boxes\"][\"minY\"])\n",
        "        max_Y=int(data[i]['annot_A'][\"boxes\"][\"maxY\"])\n",
        "        cropped_img = img[min_Y:max_Y, min_X:max_X]\n",
        "        cv2.imwrite(crop_img_path, cropped_img)\n",
        "    except:\n",
        "        print()\n",
        "        print(img_name+\"가 존재하지 않습니다.\")\n",
        "        pass\n"
      ],
      "metadata": {
        "colab": {
          "base_uri": "https://localhost:8080/"
        },
        "id": "LiPBzmOjIhOs",
        "outputId": "d1768476-c437-43c9-e001-1899f176d2b5"
      },
      "execution_count": 6,
      "outputs": [
        {
          "output_type": "stream",
          "name": "stderr",
          "text": [
            "이미지 crop 진행률:   8%|▊         | 127/1500 [00:25<03:13,  7.08it/s]"
          ]
        },
        {
          "output_type": "stream",
          "name": "stdout",
          "text": [
            "\n",
            "9rzj2ff6822f42cef0544243362f0f4f2e08fdffff9a7498469084ccffa11c8gi.jpg가 존재하지 않습니다.\n"
          ]
        },
        {
          "output_type": "stream",
          "name": "stderr",
          "text": [
            "이미지 crop 진행률:  75%|███████▍  | 1121/1500 [03:40<01:16,  4.98it/s]"
          ]
        },
        {
          "output_type": "stream",
          "name": "stdout",
          "text": [
            "\n",
            "br810daccfda5c78d9119189c2767db0d19290f2a6166af257307a1fa7b6bflyz.jpg가 존재하지 않습니다.\n"
          ]
        },
        {
          "output_type": "stream",
          "name": "stderr",
          "text": [
            "이미지 crop 진행률: 100%|██████████| 1500/1500 [04:54<00:00,  5.09it/s]\n"
          ]
        }
      ]
    },
    {
      "cell_type": "code",
      "source": [],
      "metadata": {
        "id": "8qpGHT5CXOCF"
      },
      "execution_count": null,
      "outputs": []
    }
  ]
}